{
 "cells": [
  {
   "cell_type": "markdown",
   "id": "4e615018",
   "metadata": {},
   "source": [
    "# Recommendation Engine"
   ]
  },
  {
   "cell_type": "code",
   "execution_count": 1,
   "id": "205342a2",
   "metadata": {},
   "outputs": [
    {
     "data": {
      "image/png": "[encoded data removed]",
      "text/plain": [
       "<Figure size 640x480 with 1 Axes>"
      ]
     },
     "metadata": {},
     "output_type": "display_data"
    },
    {
     "name": "stdout",
     "output_type": "stream",
     "text": [
      "Recommendations for User3:\n",
      "Titanic            6.027614\n",
      "The Dark Knight    2.048590\n",
      "Interstellar       1.717670\n",
      "dtype: float64\n"
     ]
    }
   ],
   "source": [
    "import pandas as pd\n",
    "from sklearn.metrics.pairwise import cosine_similarity\n",
    "import matplotlib.pyplot as plt\n",
    "\n",
    "# Sample user-item rating matrix\n",
    "data = {\n",
    "    'Inception': [5, 4, 0, 0, 1],\n",
    "    'Interstellar': [4, 5, 0, 2, 1],\n",
    "    'The Dark Knight': [5, 0, 0, 4, 0],\n",
    "    'The Matrix': [0, 0, 5, 4, 5],\n",
    "    'Titanic': [0, 3, 0, 5, 5]\n",
    "}\n",
    "\n",
    "users = ['User1', 'User2', 'User3', 'User4', 'User5']\n",
    "df = pd.DataFrame(data, index=users)\n",
    "\n",
    "# Plot the dataframe using matplotlib\n",
    "\n",
    "df.plot(kind='bar')\n",
    "plt.title('User ratings for movies')\n",
    "plt.xlabel('Users')\n",
    "plt.ylabel('Rating')\n",
    "plt.show()\n",
    "\n",
    "# Compute user similarity\n",
    "similarity = cosine_similarity(df)\n",
    "similarity_df = pd.DataFrame(similarity, index=users, columns=users)\n",
    "\n",
    "# Function to recommend movies for a given user\n",
    "def recommend(user, top_n=3):\n",
    "    if user not in df.index:\n",
    "        return \"User not found.\"\n",
    "    \n",
    "    # Get similar users\n",
    "    similar_users = similarity_df[user].sort_values(ascending=False)[1:]\n",
    "    \n",
    "    # Weighted sum of ratings from similar users\n",
    "    weighted_ratings = pd.Series(dtype=float)\n",
    "    for other_user, sim_score in similar_users.items():\n",
    "        weighted_ratings = weighted_ratings.add(df.loc[other_user] * sim_score, fill_value=0)\n",
    "    \n",
    "    # Remove movies the user has already rated\n",
    "    user_rated = df.loc[user][df.loc[user] > 0].index\n",
    "    weighted_ratings = weighted_ratings.drop(user_rated, errors='ignore')\n",
    "    \n",
    "    # Recommend top N movies\n",
    "    recommendations = weighted_ratings.sort_values(ascending=False).head(top_n)\n",
    "    return recommendations\n",
    "\n",
    "# Example usage\n",
    "print(\"Recommendations for User3:\")\n",
    "print(recommend('User3'))"
   ]
  },
  {
   "cell_type": "markdown",
   "id": "1c9a3669",
   "metadata": {},
   "source": [
    "# Use Gen AI to recommend movies"
   ]
  },
  {
   "cell_type": "code",
   "execution_count": 12,
   "id": "3d1d07ff",
   "metadata": {},
   "outputs": [
    {
     "name": "stdout",
     "output_type": "stream",
     "text": [
      "Summary: Recommend \"Titanic\" for User3.\n",
      "\n",
      "How I got that (brief):\n",
      "- User3 has only rated The Matrix (5).\n",
      "- The other users who also rated The Matrix are User4 (4) and User5 (5). I used those as neighbors and weighted their ratings by their Matrix scores (weights 4 and 5).\n",
      "- Predicted ratings for User3 (weighted average):\n",
      "\n",
      "  - Titanic: (5*4 + 5*5) / (4+5) = 45/9 = 5.0\n",
      "  - The Dark Knight: (4*4 + 0*5) / 9 = 16/9 ≈ 1.78\n",
      "  - Interstellar: (2*4 + 1*5) / 9 = 13/9 ≈ 1.44\n",
      "  - Inception: (0*4 + 1*5) / 9 = 5/9 ≈ 0.56\n",
      "\n",
      "Because Titanic has the highest predicted rating (5.0), that's the recommended next watch for User3.\n"
     ]
    }
   ],
   "source": [
    "from openai import AzureOpenAI\n",
    "from azure.identity import DefaultAzureCredential, get_bearer_token_provider\n",
    "\n",
    "token_provider = get_bearer_token_provider(\n",
    "    DefaultAzureCredential(), \"https://cognitiveservices.azure.com/.default\"\n",
    ")\n",
    "\n",
    "client = AzureOpenAI(\n",
    "  azure_endpoint = \"https://aifsweden.openai.azure.com/\", \n",
    "  azure_ad_token_provider=token_provider,\n",
    "  api_version=\"2025-03-01-preview\"\n",
    ")\n",
    "\n",
    "response = client.responses.create(\n",
    "    model=\"gpt-5-mini\",\n",
    "    #temperature=0.7,\n",
    "    reasoning={\"effort\": \"low\"},\n",
    "    input=\"\"\"Take this data and tell what user 3 should watch next:\"\"\" + df.to_json(),\n",
    ")\n",
    "\n",
    "print(response.output_text)\n",
    "\n"
   ]
  },
  {
   "cell_type": "markdown",
   "id": "7de80c1a",
   "metadata": {},
   "source": [
    "# Try to speed up"
   ]
  },
  {
   "cell_type": "code",
   "execution_count": 16,
   "id": "7671238c",
   "metadata": {},
   "outputs": [
    {
     "name": "stdout",
     "output_type": "stream",
     "text": [
      "Recommendation for User 3: Titanic\n",
      "\n",
      "Reasoning:\n",
      "- User 3 has rated only The Matrix highly (5). Among the remaining unviewed titles, Titanic has the highest average rating from other users (2.6) compared to Inception (2.0), Interstellar (2.4), and The Dark Knight (1.8).\n",
      "- Titanic is a popular pick with strong cross-user ratings, making it a solid next-choice based on collaborative filtering.\n",
      "\n",
      "If you want a closer genre vibe to The Matrix (sci-fi), Interstellar is another strong option, though its predicted average is a bit lower.\n"
     ]
    }
   ],
   "source": [
    "from openai import AzureOpenAI\n",
    "from azure.identity import DefaultAzureCredential, get_bearer_token_provider\n",
    "\n",
    "token_provider = get_bearer_token_provider(\n",
    "    DefaultAzureCredential(), \"https://cognitiveservices.azure.com/.default\"\n",
    ")\n",
    "\n",
    "client = AzureOpenAI(\n",
    "  azure_endpoint = \"https://aifsweden.openai.azure.com/\", \n",
    "  azure_ad_token_provider=token_provider,\n",
    "  api_version=\"2025-03-01-preview\"\n",
    ")\n",
    "\n",
    "response = client.responses.create(\n",
    "    model=\"gpt-5-nano\",\n",
    "    #temperature=0.7,\n",
    "    reasoning={\"effort\": \"low\"},\n",
    "    input=\"\"\"Take this data and tell what user 3 should watch next:\"\"\" + df.to_json(),\n",
    ")\n",
    "\n",
    "print(response.output_text)\n",
    "\n"
   ]
  },
  {
   "cell_type": "markdown",
   "id": "dc7dde15",
   "metadata": {},
   "source": [
    "# Remove the internet (foundry local)"
   ]
  },
  {
   "cell_type": "code",
   "execution_count": 5,
   "id": "059d985f",
   "metadata": {},
   "outputs": [
    {
     "name": "stdout",
     "output_type": "stream",
     "text": [
      " Based on the ratings given by the users, User3 seems to have a preference for \"The Matrix\" with a high rating of 5. To watch something similar, User3 might enjoy the next film with a strong science fiction or action elements, similar to \"The Matrix.\" Considering the available options and User3's interest, they might want to watch \"Inception,\" as it also has a high rating from User1 and a moderate rating from User2, indicating some level of interest in complex narratives and action.\n",
      "\n",
      "Answer: Inception\n",
      "\n",
      "Confidence: Moderate (User3 has not rated \"Inception,\" but it shares thematic elements with \"The Matrix,\" which they highly rated.)"
     ]
    }
   ],
   "source": [
    "import openai\n",
    "#pip install foundry-local-sdk\n",
    "from foundry_local import FoundryLocalManager\n",
    "\n",
    "# By using an alias, the most suitable model will be downloaded \n",
    "# to your end-user's device.\n",
    "#alias = \"phi-3.5-mini\"\n",
    "\n",
    "alias = \"Phi-3.5-mini-instruct-generic-gpu\"\n",
    "\n",
    "# Create a FoundryLocalManager instance. This will start the Foundry \n",
    "# Local service if it is not already running and load the specified model.\n",
    "manager = FoundryLocalManager(alias)\n",
    "\n",
    "# The remaining code us es the OpenAI Python SDK to interact with the local model.\n",
    "\n",
    "# Configure the client to use the local Foundry service\n",
    "client = openai.OpenAI(\n",
    "    base_url=manager.endpoint,\n",
    "    api_key=manager.api_key,  # API key is not required for local usage\n",
    ")\n",
    "\n",
    "# Set the model to use and generate a streaming response\n",
    "stream = client.chat.completions.create(\n",
    "    model=manager.get_model_info(alias).id,\n",
    "    messages=[{\"role\": \"user\", \"content\": \"Take this data and tell what user3 should watch next (just the answer and confidnece):\" + df.to_json(),}],\n",
    "    stream=True,\n",
    "    max_tokens=4000,\n",
    "    temperature=0.7,\n",
    "    top_p=0.9,\n",
    ")\n",
    "\n",
    "# Print the streaming response\n",
    "for chunk in stream:\n",
    "    if chunk.choices[0].delta.content is not None:\n",
    "        print(chunk.choices[0].delta.content, end=\"\", flush=True)"
   ]
  }
 ],
 "metadata": {
  "kernelspec": {
   "display_name": "Python 3",
   "language": "python",
   "name": "python3"
  },
  "language_info": {
   "codemirror_mode": {
    "name": "ipython",
    "version": 3
   },
   "file_extension": ".py",
   "mimetype": "text/x-python",
   "name": "python",
   "nbconvert_exporter": "python",
   "pygments_lexer": "ipython3",
   "version": "3.11.9"
  }
 },
 "nbformat": 4,
 "nbformat_minor": 5
}
